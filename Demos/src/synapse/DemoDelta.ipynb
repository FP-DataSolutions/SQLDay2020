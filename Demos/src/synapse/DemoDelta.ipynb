{
  "metadata": {
    "saveOutput": true,
    "language_info": {
      "name": "python"
    }
  },
  "nbformat": 4,
  "nbformat_minor": 2,
  "cells": [
    {
      "cell_type": "code",
      "execution_count": 1,
      "outputs": [],
      "metadata": {},
      "source": [
        "from delta.tables import *\n",
        "from pyspark.sql.functions import *"
      ],
      "attachments": {}
    },
    {
      "cell_type": "code",
      "execution_count": 4,
      "outputs": [
        {
          "output_type": "execute_result",
          "data": {
            "text/plain": "+--------+--------+----------------+--------------------+--------------------+-----------+--------------------+-------------+--------------------+--------------------+---------------+\n|  UserId|UserName|        UserRole|             userkey|            row_sha2|row_version|        row_datetime|row_iscurrent|       row_startdate|         row_enddate|row_elt_proc_id|\n+--------+--------+----------------+--------------------+--------------------+-----------+--------------------+-------------+--------------------+--------------------+---------------+\n|       0|   Jorge|  Data Architect|65073b83-d3d2-4ff...|f02fef1d82e36893d...| 1606201072|2020-11-24 06:58:...|         true|2020-11-24 06:57:...| 9999-12-31 00:00:00|     1606201072|\n|       0|   Jorge|Junior Developer|dfd5002c-f071-480...|81852888f14a13313...| 1606200948|2020-11-24 06:56:...|        false| 2000-01-01 00:00:00|2020-11-24 06:57:...|     1606201072|\n|      71|     Bob|Junior Developer|e9a8b081-2efa-467...|4e0d1784716838835...| 1606200948|2020-11-24 06:56:...|         true| 2000-01-01 00:00:00| 9999-12-31 00:00:00|     1606200948|\n| 3764996|   Diana|     Team Leader|81c14e58-5dc8-475...|79f7dec75e979cdb2...| 1606200948|2020-11-24 06:56:...|         true| 2000-01-01 00:00:00| 9999-12-31 00:00:00|     1606200948|\n|11626092|   Alice|Senior Developer|2d03490f-5213-478...|9d7a705bbd01f6f53...| 1606200948|2020-11-24 06:56:...|         true| 2000-01-01 00:00:00| 9999-12-31 00:00:00|     1606200948|\n+--------+--------+----------------+--------------------+--------------------+-----------+--------------------+-------------+--------------------+--------------------+---------------+"
          },
          "execution_count": 4,
          "metadata": {}
        }
      ],
      "metadata": {},
      "source": [
        "deltaTable = DeltaTable.forPath(spark, \"abfss://datalake@datalake2demos.dfs.core.windows.net/analytics_zone/DWHS/DeltaDWH/dimuser/\")\n",
        "deltaTable.toDF().orderBy(\"UserId\").show()"
      ],
      "attachments": {}
    },
    {
      "cell_type": "code",
      "execution_count": 6,
      "outputs": [
        {
          "output_type": "execute_result",
          "data": {
            "text/plain": "+--------+--------+----------------+--------------------+--------------------+-----------+--------------------+-------------+-------------------+-------------------+---------------+\n|  UserId|UserName|        UserRole|             userkey|            row_sha2|row_version|        row_datetime|row_iscurrent|      row_startdate|        row_enddate|row_elt_proc_id|\n+--------+--------+----------------+--------------------+--------------------+-----------+--------------------+-------------+-------------------+-------------------+---------------+\n|       0|   Jorge|Junior Developer|dfd5002c-f071-480...|81852888f14a13313...| 1606200948|2020-11-24 06:56:...|         true|2000-01-01 00:00:00|9999-12-31 00:00:00|     1606200948|\n|      71|     Bob|Junior Developer|e9a8b081-2efa-467...|4e0d1784716838835...| 1606200948|2020-11-24 06:56:...|         true|2000-01-01 00:00:00|9999-12-31 00:00:00|     1606200948|\n| 3764996|   Diana|     Team Leader|81c14e58-5dc8-475...|79f7dec75e979cdb2...| 1606200948|2020-11-24 06:56:...|         true|2000-01-01 00:00:00|9999-12-31 00:00:00|     1606200948|\n|11626092|   Alice|Senior Developer|2d03490f-5213-478...|9d7a705bbd01f6f53...| 1606200948|2020-11-24 06:56:...|         true|2000-01-01 00:00:00|9999-12-31 00:00:00|     1606200948|\n+--------+--------+----------------+--------------------+--------------------+-----------+--------------------+-------------+-------------------+-------------------+---------------+"
          },
          "execution_count": 6,
          "metadata": {}
        }
      ],
      "metadata": {},
      "source": [
        "df = spark.read.format(\"delta\").option(\"versionAsOf\", 1).load(\"abfss://datalake@datalake2demos.dfs.core.windows.net/analytics_zone/DWHS/DeltaDWH/dimuser/\")\n",
        "df.show()"
      ],
      "attachments": {}
    }
  ]
}